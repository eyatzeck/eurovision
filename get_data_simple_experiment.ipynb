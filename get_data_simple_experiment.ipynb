{
 "cells": [
  {
   "cell_type": "code",
   "execution_count": 5,
   "metadata": {},
   "outputs": [
    {
     "name": "stdout",
     "output_type": "stream",
     "text": [
      "1\n"
     ]
    }
   ],
   "source": [
    "import requests\n",
    "import pandas as pd\n",
    "from io import StringIO as SIO\n",
    "\n",
    "\n",
    "url = 'https://eschome.net/databaseoutput403.php'\n",
    "params = {'land_erhalten' : 'AL', 'land_gegeben' : 'LU', 'x' : '7', 'y' : '3'}\n",
    "\n",
    "#x = requests.post(url, json = myobj)\n",
    "page = requests.post(url,data = params,allow_redirects=False)\n",
    "#print(page.text)\n",
    "\n",
    "list_of_tables = pd.read_html(SIO(page.text), header = 0)\n",
    "print(len(list_of_tables))\n"
   ]
  }
 ],
 "metadata": {
  "kernelspec": {
   "display_name": "Python 3",
   "language": "python",
   "name": "python3"
  },
  "language_info": {
   "codemirror_mode": {
    "name": "ipython",
    "version": 3
   },
   "file_extension": ".py",
   "mimetype": "text/x-python",
   "name": "python",
   "nbconvert_exporter": "python",
   "pygments_lexer": "ipython3",
   "version": "3.11.5"
  }
 },
 "nbformat": 4,
 "nbformat_minor": 2
}
