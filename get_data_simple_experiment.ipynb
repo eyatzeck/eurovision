{
 "cells": [
  {
   "cell_type": "code",
   "execution_count": null,
   "metadata": {},
   "outputs": [],
   "source": [
    "import requests\n",
    "\n",
    "url = 'https://eschome.net/databaseoutput410.php'\n",
    "#myobj = {'somekey': 'somevalue'}\n",
    "\n",
    "#x = requests.post(url, json = myobj)\n",
    "page = requests.post(url)\n",
    "#print(page.text)\n",
    "\n",
    "# Pandas\n",
    "import pandas as pd\n",
    "from io import StringIO as SIO\n",
    "\n",
    "list_of_tables = pd.read_html(SIO(page.text), header = 0)\n",
    "print(f'Total tables: {len(list_of_tables)}')\n",
    "df = list_of_tables[1]\n",
    "all_cols = df[['Year','Country','City','Location','Broadcaster','Date']]\n",
    "print(all_cols.info())\n",
    "print(all_cols.head(10))\n",
    "\n",
    "# Below = beautiful soup stuff\n",
    "#from bs4 import BeautifulSoup\n",
    "#soup = BeautifulSoup(page.content, \"html.parser\")\n",
    "#print(soup.prettify())\n",
    "#results = soup.find(id=\"inhalt\")\n",
    "#print(results.prettify())\n",
    "#annual_results = results.find_all(\"tr\", class_=\"tr_output_tabelle_1\")\n",
    "#print(annual_results)"
   ]
  }
 ],
 "metadata": {
  "kernelspec": {
   "display_name": "Python 3",
   "language": "python",
   "name": "python3"
  },
  "language_info": {
   "name": "python",
   "version": "3.11.5"
  }
 },
 "nbformat": 4,
 "nbformat_minor": 2
}
